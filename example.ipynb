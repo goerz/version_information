{
 "metadata": {
  "name": "",
  "signature": "sha256:a8089adacfdfe2e8007e7a2aae01c2d3889b526a4675708e7d5924eec1e45caa"
 },
 "nbformat": 3,
 "nbformat_minor": 0,
 "worksheets": [
  {
   "cells": [
    {
     "cell_type": "heading",
     "level": 1,
     "metadata": {},
     "source": [
      "IPython extension version_information"
     ]
    },
    {
     "cell_type": "markdown",
     "metadata": {},
     "source": [
      "Use the '%version_information' IPython magic extension in a notebook to display information about which versions of dependency package that was used to run the notebook."
     ]
    },
    {
     "cell_type": "heading",
     "level": 2,
     "metadata": {},
     "source": [
      "Installation"
     ]
    },
    {
     "cell_type": "code",
     "collapsed": false,
     "input": [
      "%install_ext http://raw.github.com/goerz/version_information/master/version_information.py"
     ],
     "language": "python",
     "metadata": {},
     "outputs": [
      {
       "output_type": "stream",
       "stream": "stdout",
       "text": [
        "Installed version_information.py. To use it, type:\n",
        "  %load_ext version_information\n"
       ]
      }
     ],
     "prompt_number": 1
    },
    {
     "cell_type": "heading",
     "level": 2,
     "metadata": {},
     "source": [
      "Use"
     ]
    },
    {
     "cell_type": "code",
     "collapsed": false,
     "input": [
      "%load_ext version_information"
     ],
     "language": "python",
     "metadata": {},
     "outputs": [],
     "prompt_number": 2
    },
    {
     "cell_type": "code",
     "collapsed": false,
     "input": [
      "%version_information"
     ],
     "language": "python",
     "metadata": {},
     "outputs": [
      {
       "html": [
        "<table><tr><th>Software</th><th>Version</th></tr><tr><td>Python</td><td>2.7.9 64bit [GCC 4.2.1 (Apple Inc. build 5577)]</td></tr><tr><td>IPython</td><td>2.4.1</td></tr><tr><td>OS</td><td>Darwin 14.1.0 x86_64 i386 64bit</td></tr><tr><td colspan='2'>Mon Feb 23 03:19:28 2015 CET</td></tr></table>"
       ],
       "json": [
        "{\"Software versions\": [{\"version\": \"2.7.9 64bit [GCC 4.2.1 (Apple Inc. build 5577)]\", \"module\": \"Python\"}, {\"version\": \"2.4.1\", \"module\": \"IPython\"}, {\"version\": \"Darwin 14.1.0 x86_64 i386 64bit\", \"module\": \"OS\"}]}"
       ],
       "latex": [
        "\\begin{tabular}{|l|l|}\\hline\n",
        "{\\bf Software} & {\\bf Version} \\\\ \\hline\\hline\n",
        "Python & 2.7.9 64bit [GCC 4.2.1 (Apple Inc. build 5577)] \\\\ \\hline\n",
        "IPython & 2.4.1 \\\\ \\hline\n",
        "OS & Darwin 14.1.0 x86\\_64 i386 64bit \\\\ \\hline\n",
        "\\hline \\multicolumn{2}{|l|}{Mon Feb 23 03:19:28 2015 CET} \\\\ \\hline\n",
        "\\end{tabular}\n"
       ],
       "metadata": {},
       "output_type": "pyout",
       "prompt_number": 3,
       "text": [
        "Software versions\n",
        "Python 2.7.9 64bit [GCC 4.2.1 (Apple Inc. build 5577)]\n",
        "IPython 2.4.1\n",
        "OS Darwin 14.1.0 x86_64 i386 64bit\n",
        "Mon Feb 23 03:19:28 2015 CET"
       ]
      }
     ],
     "prompt_number": 3
    },
    {
     "cell_type": "code",
     "collapsed": false,
     "input": [
      "%version_information scipy, numpy, matplotlib"
     ],
     "language": "python",
     "metadata": {},
     "outputs": [
      {
       "html": [
        "<table><tr><th>Software</th><th>Version</th></tr><tr><td>Python</td><td>2.7.9 64bit [GCC 4.2.1 (Apple Inc. build 5577)]</td></tr><tr><td>IPython</td><td>2.4.1</td></tr><tr><td>OS</td><td>Darwin 14.1.0 x86_64 i386 64bit</td></tr><tr><td>scipy</td><td>0.14.0</td></tr><tr><td>numpy</td><td>1.9.1</td></tr><tr><td>matplotlib</td><td>1.4.3</td></tr><tr><td colspan='2'>Mon Feb 23 03:19:28 2015 CET</td></tr></table>"
       ],
       "json": [
        "{\"Software versions\": [{\"version\": \"2.7.9 64bit [GCC 4.2.1 (Apple Inc. build 5577)]\", \"module\": \"Python\"}, {\"version\": \"2.4.1\", \"module\": \"IPython\"}, {\"version\": \"Darwin 14.1.0 x86_64 i386 64bit\", \"module\": \"OS\"}, {\"version\": \"0.14.0\", \"module\": \"scipy\"}, {\"version\": \"1.9.1\", \"module\": \"numpy\"}, {\"version\": \"1.4.3\", \"module\": \"matplotlib\"}]}"
       ],
       "latex": [
        "\\begin{tabular}{|l|l|}\\hline\n",
        "{\\bf Software} & {\\bf Version} \\\\ \\hline\\hline\n",
        "Python & 2.7.9 64bit [GCC 4.2.1 (Apple Inc. build 5577)] \\\\ \\hline\n",
        "IPython & 2.4.1 \\\\ \\hline\n",
        "OS & Darwin 14.1.0 x86\\_64 i386 64bit \\\\ \\hline\n",
        "scipy & 0.14.0 \\\\ \\hline\n",
        "numpy & 1.9.1 \\\\ \\hline\n",
        "matplotlib & 1.4.3 \\\\ \\hline\n",
        "\\hline \\multicolumn{2}{|l|}{Mon Feb 23 03:19:28 2015 CET} \\\\ \\hline\n",
        "\\end{tabular}\n"
       ],
       "metadata": {},
       "output_type": "pyout",
       "prompt_number": 4,
       "text": [
        "Software versions\n",
        "Python 2.7.9 64bit [GCC 4.2.1 (Apple Inc. build 5577)]\n",
        "IPython 2.4.1\n",
        "OS Darwin 14.1.0 x86_64 i386 64bit\n",
        "scipy 0.14.0\n",
        "numpy 1.9.1\n",
        "matplotlib 1.4.3\n",
        "Mon Feb 23 03:19:28 2015 CET"
       ]
      }
     ],
     "prompt_number": 4
    },
    {
     "cell_type": "markdown",
     "metadata": {},
     "source": [
      "Expressions that are contained in quotes are run in the shell; the first line of the resulting output is assumed to be a version string"
     ]
    },
    {
     "cell_type": "code",
     "collapsed": false,
     "input": [
      "%version_information numpy, \"vi --version\", 'grep --version'"
     ],
     "language": "python",
     "metadata": {},
     "outputs": [
      {
       "html": [
        "<table><tr><th>Software</th><th>Version</th></tr><tr><td>Python</td><td>2.7.9 64bit [GCC 4.2.1 (Apple Inc. build 5577)]</td></tr><tr><td>IPython</td><td>2.4.1</td></tr><tr><td>OS</td><td>Darwin 14.1.0 x86_64 i386 64bit</td></tr><tr><td>numpy</td><td>1.9.1</td></tr><tr><td>vi --version</td><td>VIM - Vi IMproved 7.3 (2010 Aug 15, compiled Nov  6 2014 14:32:04)\n",
        "</td></tr><tr><td>grep --version</td><td>grep (BSD grep) 2.5.1-FreeBSD\n",
        "</td></tr><tr><td colspan='2'>Mon Feb 23 03:19:29 2015 CET</td></tr></table>"
       ],
       "json": [
        "{\"Software versions\": [{\"version\": \"2.7.9 64bit [GCC 4.2.1 (Apple Inc. build 5577)]\", \"module\": \"Python\"}, {\"version\": \"2.4.1\", \"module\": \"IPython\"}, {\"version\": \"Darwin 14.1.0 x86_64 i386 64bit\", \"module\": \"OS\"}, {\"version\": \"1.9.1\", \"module\": \"numpy\"}, {\"version\": \"VIM - Vi IMproved 7.3 (2010 Aug 15, compiled Nov  6 2014 14:32:04)\\n\", \"module\": \"vi --version\"}, {\"version\": \"grep (BSD grep) 2.5.1-FreeBSD\\n\", \"module\": \"grep --version\"}]}"
       ],
       "latex": [
        "\\begin{tabular}{|l|l|}\\hline\n",
        "{\\bf Software} & {\\bf Version} \\\\ \\hline\\hline\n",
        "Python & 2.7.9 64bit [GCC 4.2.1 (Apple Inc. build 5577)] \\\\ \\hline\n",
        "IPython & 2.4.1 \\\\ \\hline\n",
        "OS & Darwin 14.1.0 x86\\_64 i386 64bit \\\\ \\hline\n",
        "numpy & 1.9.1 \\\\ \\hline\n",
        "vi --version & VIM - Vi IMproved 7.3 (2010 Aug 15, compiled Nov  6 2014 14:32:04)\n",
        " \\\\ \\hline\n",
        "grep --version & grep (BSD grep) 2.5.1-FreeBSD\n",
        " \\\\ \\hline\n",
        "\\hline \\multicolumn{2}{|l|}{Mon Feb 23 03:19:29 2015 CET} \\\\ \\hline\n",
        "\\end{tabular}\n"
       ],
       "metadata": {},
       "output_type": "pyout",
       "prompt_number": 5,
       "text": [
        "Software versions\n",
        "Python 2.7.9 64bit [GCC 4.2.1 (Apple Inc. build 5577)]\n",
        "IPython 2.4.1\n",
        "OS Darwin 14.1.0 x86_64 i386 64bit\n",
        "numpy 1.9.1\n",
        "vi --version VIM - Vi IMproved 7.3 (2010 Aug 15, compiled Nov  6 2014 14:32:04)\n",
        "\n",
        "grep --version grep (BSD grep) 2.5.1-FreeBSD\n",
        "\n",
        "Mon Feb 23 03:19:29 2015 CET"
       ]
      }
     ],
     "prompt_number": 5
    }
   ],
   "metadata": {}
  }
 ]
}